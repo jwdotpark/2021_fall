{
 "cells": [
  {
   "cell_type": "markdown",
   "source": [
    "## Codes Lesson 1- LU Practical Algorithms and Data Structures\n",
    "Document Prepared by **Dr. Margarita Diaz Cortes**"
   ],
   "metadata": {}
  },
  {
   "cell_type": "code",
   "execution_count": null,
   "source": [
    "def fun_sum(a,b):\n",
    "    return a+b\n",
    "\n",
    "print(fun_sum(1,2))"
   ],
   "outputs": [],
   "metadata": {}
  },
  {
   "cell_type": "code",
   "execution_count": null,
   "source": [
    "def fun_vector_sum(a):\n",
    "    vector_sum = 0\n",
    "    for i in a: #(i=0 to n-1)\n",
    "            vector_sum = vector_sum + i    \n",
    "    return vector_sum\n",
    "\n",
    "print(fun_vector_sum([1,2,3,4]))"
   ],
   "outputs": [],
   "metadata": {}
  },
  {
   "cell_type": "code",
   "execution_count": null,
   "source": [
    "def fun_ex(items):\n",
    "\n",
    "    for i in items:\n",
    "        print (\"Hello there!\")\n",
    "\n",
    "    for item in items:\n",
    "        print(item)\n",
    "    \n",
    "    print(\"Hello again!\")\n",
    "    print(\"This is an example\")\n",
    "    print(\"Real-life codes don't look like this, but you got to start somewhere\")\n",
    "\n",
    "    for item in items:\n",
    "        print(item+1)\n",
    "\n",
    "fun_ex([4, 5, 6, 8])"
   ],
   "outputs": [],
   "metadata": {}
  },
  {
   "cell_type": "markdown",
   "source": [
    "**Search using brute force**"
   ],
   "metadata": {}
  },
  {
   "cell_type": "code",
   "execution_count": null,
   "source": [
    "vector = [0] *35\n",
    "vector[20] = 5\n",
    "print(vector)\n",
    "\n",
    "def search(x, my_list):\n",
    "    for i,j in enumerate(my_list):\n",
    "        if j == x:\n",
    "            print('Element found in the position',i)            \n",
    "\n",
    "nums_1 = [2,3,6,8,10]\n",
    "search(5, vector)"
   ],
   "outputs": [],
   "metadata": {}
  },
  {
   "cell_type": "markdown",
   "source": [
    "**Example for Big Theta**"
   ],
   "metadata": {}
  },
  {
   "cell_type": "code",
   "execution_count": null,
   "source": [
    "def printNums(arr): \n",
    "    for x in arr:\n",
    "        print(x)\n",
    "\n",
    "nums_1 = [2,3,6,8,10]\n",
    "printNums(nums_1)"
   ],
   "outputs": [],
   "metadata": {}
  },
  {
   "cell_type": "markdown",
   "source": [
    "**What about space complexity?**"
   ],
   "metadata": {}
  },
  {
   "cell_type": "code",
   "execution_count": null,
   "source": [
    "def return_squares(n):\n",
    "    square_list = []\n",
    "    for num in n:\n",
    "        square_list.append(num * num)\n",
    "\n",
    "    return square_list\n",
    "\n",
    "nums = [2, 4, 6, 8, 10]\n",
    "print(return_squares(nums))"
   ],
   "outputs": [],
   "metadata": {}
  },
  {
   "cell_type": "code",
   "execution_count": 2,
   "source": [
    "vector = [0] *35\n",
    "vector[12] = 5\n",
    "print(vector)"
   ],
   "outputs": [
    {
     "output_type": "stream",
     "name": "stdout",
     "text": [
      "[0, 0, 0, 0, 0, 0, 0, 0, 0, 0, 0, 0, 5, 0, 0, 0, 0, 0, 0, 0, 0, 0, 0, 0, 0, 0, 0, 0, 0, 0, 0, 0, 0, 0, 0]\n"
     ]
    }
   ],
   "metadata": {}
  },
  {
   "cell_type": "markdown",
   "source": [
    "**Binary Search code**"
   ],
   "metadata": {}
  },
  {
   "cell_type": "code",
   "execution_count": null,
   "source": [
    "def binary_search(l, item):\n",
    "    first = 0\n",
    "    last = len(l)-1\n",
    "    found = False\n",
    "\n",
    "    while first<=last and not found:\n",
    "        midpoint = round((first + last)/2)\n",
    "        if l[midpoint] == item:\n",
    "            found = True\n",
    "        else:\n",
    "            if item < l[midpoint]:\n",
    "                last = midpoint-1\n",
    "            else:\n",
    "                first = midpoint+1\n",
    "\n",
    "    return found\n",
    "\n",
    "input = [0, 1, 2, 8, 13, 17, 19, 32, 42,]\n",
    "\n",
    "print(binary_search(input, 5))   # found: False\n",
    "print(binary_search(input, 13))  # found: True"
   ],
   "outputs": [],
   "metadata": {}
  },
  {
   "cell_type": "code",
   "execution_count": null,
   "source": [
    "matrix = []\n",
    "\n",
    "for i in range(15):\n",
    "    #matrix.append([0] * 30) #option 1\n",
    "    matrix.append([])\n",
    "    for j in range(30):\n",
    "        matrix[i].append(0)\n",
    "\n",
    "\n",
    "#changing one element in the matrix    \n",
    "matrix[13][5] = 5\n",
    "    \n",
    "\n",
    "#print the output\n",
    "for ii in matrix:\n",
    "    print(ii)"
   ],
   "outputs": [],
   "metadata": {}
  },
  {
   "cell_type": "code",
   "execution_count": null,
   "source": [
    "data = [1, 2, 3, 4, 5, 6, 7, 8, 9]\n",
    "for index in range(0, len(data), 3):\n",
    "    print(data[index])\n"
   ],
   "outputs": [],
   "metadata": {}
  },
  {
   "cell_type": "code",
   "execution_count": null,
   "source": [
    "def binary_search(data, value):\n",
    "    n = len(data)\n",
    "    left = 0\n",
    "    right = n - 1\n",
    "    while left <= right:\n",
    "        middle = (left + right) // 2\n",
    "        if value < data[middle]:\n",
    "            right = middle - 1\n",
    "        elif value > data[middle]:\n",
    "            left = middle + 1\n",
    "        else:\n",
    "            return middle\n",
    "    raise ValueError('Value is not in the list')\n",
    "\n",
    "\n",
    "data = [1, 2, 3, 4, 5, 6, 7, 8, 9]\n",
    "print(binary_search(data, 10))"
   ],
   "outputs": [],
   "metadata": {}
  },
  {
   "cell_type": "markdown",
   "source": [
    "**Bubble Sort Algorithm**"
   ],
   "metadata": {}
  },
  {
   "cell_type": "code",
   "execution_count": 1,
   "source": [
    "def bubbleSort(items):\n",
    "    \n",
    "  # loop to access each array element\n",
    "  for i in range(len(items)):\n",
    "\n",
    "    # loop to compare array elements\n",
    "    for j in range(0, len(items) - i - 1):\n",
    "\n",
    "      # compare two adjacent elements\n",
    "      # change > to < to sort in descending order\n",
    "        if items[j] > items[j + 1]:\n",
    "\n",
    "        # swapping elements if elements\n",
    "        # are not in the intended order\n",
    "            temp = items[j]\n",
    "            items[j] = items[j+1]\n",
    "            items[j+1] = temp\n",
    "\n",
    "\n",
    "data = [-2, 45, 0, 11, -9]\n",
    "\n",
    "bubbleSort(data)\n",
    "\n",
    "print('Sorted Array in Ascending Order:')\n",
    "print(data)"
   ],
   "outputs": [
    {
     "output_type": "stream",
     "name": "stdout",
     "text": [
      "Sorted Array in Ascending Order:\n",
      "[-9, -2, 0, 11, 45]\n"
     ]
    }
   ],
   "metadata": {}
  },
  {
   "cell_type": "markdown",
   "source": [
    "**Exponential Time — O(2^n)**"
   ],
   "metadata": {}
  },
  {
   "cell_type": "code",
   "execution_count": null,
   "source": [
    "def fibonacci(n):\n",
    "    if n <= 1:\n",
    "        return n\n",
    "    return fibonacci(n-1) + fibonacci(n-2)"
   ],
   "outputs": [],
   "metadata": {}
  },
  {
   "cell_type": "code",
   "execution_count": null,
   "source": [],
   "outputs": [],
   "metadata": {}
  }
 ],
 "metadata": {
  "kernelspec": {
   "name": "python3",
   "display_name": "Python 3.8.10 64-bit"
  },
  "language_info": {
   "codemirror_mode": {
    "name": "ipython",
    "version": 3
   },
   "file_extension": ".py",
   "mimetype": "text/x-python",
   "name": "python",
   "nbconvert_exporter": "python",
   "pygments_lexer": "ipython3",
   "version": "3.8.10"
  },
  "interpreter": {
   "hash": "916dbcbb3f70747c44a77c7bcd40155683ae19c65e1c03b4aa3499c5328201f1"
  }
 },
 "nbformat": 4,
 "nbformat_minor": 4
}